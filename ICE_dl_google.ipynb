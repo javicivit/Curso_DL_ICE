{
  "nbformat": 4,
  "nbformat_minor": 0,
  "metadata": {
    "accelerator": "GPU",
    "colab": {
      "name": "ICE_dl_google.ipynb",
      "provenance": [],
      "collapsed_sections": [],
      "include_colab_link": true
    },
    "kernelspec": {
      "name": "python3",
      "display_name": "Python 3"
    }
  },
  "cells": [
    {
      "cell_type": "markdown",
      "metadata": {
        "id": "view-in-github",
        "colab_type": "text"
      },
      "source": [
        "<a href=\"https://colab.research.google.com/github/javicivit/Curso_DL_ICE/blob/master/ICE_dl_google.ipynb\" target=\"_parent\"><img src=\"https://colab.research.google.com/assets/colab-badge.svg\" alt=\"Open In Colab\"/></a>"
      ]
    },
    {
      "cell_type": "markdown",
      "metadata": {
        "colab_type": "text",
        "id": "SRvDywmJtVds"
      },
      "source": [
        "## About this tutorial \n",
        "\n",
        "You would like to try deep learning but don't have a GPU? Or you don't want to install software on your computer? \n",
        "\n",
        "This tutorial is for you, as it requires **no specific hardware or software**. \n",
        "\n",
        "Instead, we'll use the **Colaboratory platform from Google**.\n",
        "\n",
        "In this tutorial, you will learn: \n",
        "\n",
        "* What is the google colaboratory platform and how to use it. \n",
        "* What is a **convolutional network**, and what are its most important layers: the **convolutional layers**, **the maxpooling layers**, and **the dropout layers**;\n",
        "* How to build a simple convolutional network, and **how to tune it to reach an accuracy around 99.4% in the recognition of handwritten digits**.\n",
        "\n",
        "You can start following this tutorial right away. But if you want to get an introduction to the tools we will use, you can: \n",
        "\n",
        "* have a look at [my first tutorial on handwritten digits](https://thedatafrog.com/handwritten-digit-recognition-scikit-learn/). This will show you which kind of performance we can get without deep learning, and will teach you the basics of numpy, matplotlib, and neural networks. \n",
        "* follow this [short tutorial on Keras](https://thedatafrog.com/first-neural-network-keras/).\n",
        "\n",
        "As always, if you encounter any issue or have questions, don't hesitate to comment at the bottom of this page and I'll help you. \n",
        "\n",
        "\n",
        "## The Google Colaboratory Platorm\n",
        "\n",
        "Google has recently set up the [Colaboratory Platform](https://colab.research.google.com/notebooks/welcome.ipynb) to promote the use of TensorFlow for deep learning, and it's awesome! \n",
        "\n",
        "It provides: \n",
        "\n",
        "* python environments with all the necessary software, and you can install more if needed\n",
        "* access to GPUs\n",
        "* excellent tutorials\n",
        "* the possibility to run your own code (and my stuff!)\n",
        "\n",
        "In particular, the author of Keras and google engineer François Chollet set up extremely useful tutorials in which Keras is used as an interface to TensorFlow. For example, you can check out [this one](https://colab.research.google.com/github/tensorflow/tpu/blob/master/tools/colab/fashion_mnist.ipynb) where we learn how to classify clothing items (trousers, shoes, and whatnot). \n",
        "\n",
        "I do encourage you to dig into the google colab tutorials on your own! I would only advise you to stick to the keras-based tutorials which are much easier. \n",
        "\n",
        "On my side, I intend to use this tool to provide you with original content, as well as more details about the subjects already covered by google. \n",
        "\n",
        "💡 **To run your jupyter notebook on google colab, you can either:**\n",
        "\n",
        "* **commit it to github, and to provide a specific url to direct google colab to the notebook.**\n",
        "* **put it in your google drive, and use Chrome to open it with Colab.**\n",
        "\n",
        "The url of this tutorial on github is https://github.com/cbernet/maldives/blob/master/hwd_deeplearning_google/hwd_dl_google.ipynb\n",
        "\n",
        "The url to run it on google colab is https://colab.research.google.com/github/cbernet/maldives/blob/master/hwd_deeplearning_google/hwd_dl_google.ipynb\n",
        "\n",
        "Just follow this link now. Then:\n",
        "\n",
        "* head to the Runtime (or Exécution) menu, and change the runtime to GPU\n",
        "* click \"CONNECT\" on the top right.\n",
        "* execute the cells one by one by selecting them and pressing shift+enter"
      ]
    },
    {
      "cell_type": "markdown",
      "metadata": {
        "colab_type": "text",
        "id": "9mw3fUDitVdy"
      },
      "source": [
        "## The Dataset\n",
        "\n",
        "In [my first tutorial on handwritten digits](https://thedatafrog.com/handwritten-digit-recognition-scikit-learn/), we have used the simplified digits dataset provided with scikit-learn because we didn't have the resources to process the [real MNIST handrwitten digits dataset](http://yann.lecun.com/exdb/mnist/) at that time. \n",
        "\n",
        "Here, we have access to the GPUs from Google, and to keras which provides an easy way to load this dataset:"
      ]
    },
    {
      "cell_type": "code",
      "metadata": {
        "colab_type": "code",
        "id": "jFKEynAytVd2",
        "colab": {
          "base_uri": "https://localhost:8080/",
          "height": 52
        },
        "outputId": "281b1ea0-5850-4655-fc94-36a810517865"
      },
      "source": [
        "import tensorflow as tf\n",
        "(x_train, y_train), (x_test, y_test) = tf.keras.datasets.mnist.load_data()"
      ],
      "execution_count": 3,
      "outputs": [
        {
          "output_type": "stream",
          "text": [
            "Downloading data from https://storage.googleapis.com/tensorflow/tf-keras-datasets/mnist.npz\n",
            "11493376/11490434 [==============================] - 0s 0us/step\n"
          ],
          "name": "stdout"
        }
      ]
    },
    {
      "cell_type": "markdown",
      "metadata": {
        "colab_type": "text",
        "id": "gQLSCxxYtVeC"
      },
      "source": [
        "Let's have a look our dataset."
      ]
    },
    {
      "cell_type": "code",
      "metadata": {
        "colab_type": "code",
        "id": "311Pzt80tVeG",
        "colab": {
          "base_uri": "https://localhost:8080/",
          "height": 35
        },
        "outputId": "df88eb04-ff6a-47ed-e2f2-d4354d19da2f"
      },
      "source": [
        "print( x_train.shape, y_train.shape, x_test.shape, y_test.shape)"
      ],
      "execution_count": 3,
      "outputs": [
        {
          "output_type": "stream",
          "text": [
            "(60000, 28, 28) (60000,) (10000, 28, 28) (10000,)\n"
          ],
          "name": "stdout"
        }
      ]
    },
    {
      "cell_type": "markdown",
      "metadata": {
        "colab_type": "text",
        "id": "cxrNL8agtVeR"
      },
      "source": [
        "so: \n",
        "\n",
        "* 60,000 training samples and 10,000 test samples\n",
        "* images are 28x28 = 784 pixels, while they are 8x8=64 pixels in the simplified digits dataset of scikit-learn. We have images with much better resolution, but need networks with many more neurons to process them"
      ]
    },
    {
      "cell_type": "markdown",
      "metadata": {
        "colab_type": "text",
        "id": "FWCU17B1tVeU"
      },
      "source": [
        "Now let's plot some of these images. "
      ]
    },
    {
      "cell_type": "code",
      "metadata": {
        "colab_type": "code",
        "id": "umgVXlOetVeX",
        "colab": {}
      },
      "source": [
        "import matplotlib.pyplot as plt\n",
        "def plot_img(i):\n",
        "    # plot the image and the target for sample i\n",
        "    plt.imshow(x_train[i])\n",
        "    plt.title(y_train[i])\n",
        "    plt.axis('off')"
      ],
      "execution_count": 4,
      "outputs": []
    },
    {
      "cell_type": "code",
      "metadata": {
        "colab_type": "code",
        "id": "lf9qi83jtVed",
        "colab": {
          "base_uri": "https://localhost:8080/",
          "height": 264
        },
        "outputId": "9a1b6e04-4f66-4378-95e2-8e8ba64fe0a9"
      },
      "source": [
        "plot_img(7)"
      ],
      "execution_count": 6,
      "outputs": [
        {
          "output_type": "display_data",
          "data": {
            "image/png": "[encoded data removed]",
            "text/plain": [
              "<Figure size 432x288 with 1 Axes>"
            ]
          },
          "metadata": {
            "tags": [],
            "needs_background": "light"
          }
        }
      ]
    },
    {
      "cell_type": "markdown",
      "metadata": {
        "colab_type": "text",
        "id": "rOzBtEWxtVem"
      },
      "source": [
        "Please have a look at other images by repeating the plot above for different samples"
      ]
    },
    {
      "cell_type": "markdown",
      "metadata": {
        "colab_type": "text",
        "id": "wN7sUkhFtVeq"
      },
      "source": [
        "Now we should check the actual data for a given image. Let's put the values in the pixels of the first image in an histogram: "
      ]
    },
    {
      "cell_type": "code",
      "metadata": {
        "colab_type": "code",
        "id": "JUBPdg6NtVeu",
        "colab": {
          "base_uri": "https://localhost:8080/",
          "height": 803
        },
        "outputId": "40223f04-a818-4dce-bbfb-9a77e3279ba4"
      },
      "source": [
        "plt.hist(x_train[0])"
      ],
      "execution_count": 7,
      "outputs": [
        {
          "output_type": "execute_result",
          "data": {
            "text/plain": [
              "(array([[28.,  0.,  0.,  0.,  0.,  0.,  0.,  0.,  0.,  0.],\n",
              "        [28.,  0.,  0.,  0.,  0.,  0.,  0.,  0.,  0.,  0.],\n",
              "        [28.,  0.,  0.,  0.,  0.,  0.,  0.,  0.,  0.,  0.],\n",
              "        [28.,  0.,  0.,  0.,  0.,  0.,  0.,  0.,  0.,  0.],\n",
              "        [26.,  0.,  1.,  0.,  0.,  1.,  0.,  0.,  0.,  0.],\n",
              "        [26.,  0.,  0.,  0.,  0.,  0.,  1.,  0.,  0.,  1.],\n",
              "        [26.,  0.,  0.,  0.,  0.,  0.,  0.,  0.,  1.,  1.],\n",
              "        [24.,  1.,  0.,  0.,  0.,  0.,  1.,  0.,  0.,  2.],\n",
              "        [21.,  1.,  0.,  1.,  0.,  0.,  0.,  0.,  3.,  2.],\n",
              "        [20.,  1.,  1.,  0.,  0.,  1.,  1.,  0.,  0.,  4.],\n",
              "        [20.,  0.,  0.,  1.,  1.,  1.,  0.,  0.,  1.,  4.],\n",
              "        [18.,  0.,  0.,  0.,  1.,  1.,  2.,  0.,  0.,  6.],\n",
              "        [15.,  2.,  0.,  0.,  0.,  1.,  1.,  1.,  1.,  7.],\n",
              "        [15.,  0.,  0.,  2.,  0.,  1.,  0.,  2.,  1.,  7.],\n",
              "        [16.,  2.,  1.,  1.,  0.,  0.,  0.,  1.,  2.,  5.],\n",
              "        [18.,  0.,  0.,  0.,  0.,  1.,  1.,  3.,  0.,  5.],\n",
              "        [15.,  1.,  0.,  2.,  2.,  0.,  0.,  1.,  0.,  7.],\n",
              "        [16.,  0.,  0.,  0.,  1.,  1.,  1.,  1.,  0.,  8.],\n",
              "        [19.,  0.,  0.,  2.,  0.,  1.,  1.,  0.,  1.,  4.],\n",
              "        [20.,  2.,  0.,  1.,  0.,  0.,  1.,  2.,  1.,  1.],\n",
              "        [24.,  0.,  1.,  1.,  0.,  0.,  1.,  0.,  0.,  1.],\n",
              "        [25.,  0.,  1.,  0.,  0.,  0.,  0.,  0.,  0.,  2.],\n",
              "        [25.,  1.,  0.,  0.,  0.,  0.,  0.,  1.,  0.,  1.],\n",
              "        [26.,  0.,  1.,  0.,  1.,  0.,  0.,  0.,  0.,  0.],\n",
              "        [28.,  0.,  0.,  0.,  0.,  0.,  0.,  0.,  0.,  0.],\n",
              "        [28.,  0.,  0.,  0.,  0.,  0.,  0.,  0.,  0.,  0.],\n",
              "        [28.,  0.,  0.,  0.,  0.,  0.,  0.,  0.,  0.,  0.],\n",
              "        [28.,  0.,  0.,  0.,  0.,  0.,  0.,  0.,  0.,  0.]]),\n",
              " array([  0. ,  25.5,  51. ,  76.5, 102. , 127.5, 153. , 178.5, 204. ,\n",
              "        229.5, 255. ]),\n",
              " <a list of 28 Lists of Patches objects>)"
            ]
          },
          "metadata": {
            "tags": []
          },
          "execution_count": 7
        },
        {
          "output_type": "display_data",
          "data": {
            "image/png": "[encoded data removed]",
            "text/plain": [
              "<Figure size 432x288 with 1 Axes>"
            ]
          },
          "metadata": {
            "tags": [],
            "needs_background": "light"
          }
        }
      ]
    },
    {
      "cell_type": "markdown",
      "metadata": {
        "colab_type": "text",
        "id": "3IDwJz6UtVe4"
      },
      "source": [
        "We see that the values in the image array are between 0 and 255 (the values are coded on 8 bits). \n",
        "\n",
        "This is not adequate. Indeed, for a neural network to work well, it must deal with input values close to unity. So we're going to normalize all images to values between 0 and 1: "
      ]
    },
    {
      "cell_type": "code",
      "metadata": {
        "colab_type": "code",
        "id": "p1bOPi4ltVe8",
        "colab": {
          "base_uri": "https://localhost:8080/",
          "height": 785
        },
        "outputId": "fb834d66-777f-42f4-e0c7-f3823b50c366"
      },
      "source": [
        "import numpy as np\n",
        "x_train = x_train/255.\n",
        "plt.hist(x_train[0])"
      ],
      "execution_count": 5,
      "outputs": [
        {
          "output_type": "execute_result",
          "data": {
            "text/plain": [
              "(array([[28.,  0.,  0.,  0.,  0.,  0.,  0.,  0.,  0.,  0.],\n",
              "        [28.,  0.,  0.,  0.,  0.,  0.,  0.,  0.,  0.,  0.],\n",
              "        [28.,  0.,  0.,  0.,  0.,  0.,  0.,  0.,  0.,  0.],\n",
              "        [28.,  0.,  0.,  0.,  0.,  0.,  0.,  0.,  0.,  0.],\n",
              "        [26.,  0.,  1.,  0.,  0.,  1.,  0.,  0.,  0.,  0.],\n",
              "        [26.,  0.,  0.,  0.,  0.,  0.,  1.,  0.,  0.,  1.],\n",
              "        [26.,  0.,  0.,  0.,  0.,  0.,  0.,  0.,  1.,  1.],\n",
              "        [24.,  1.,  0.,  0.,  0.,  0.,  1.,  0.,  0.,  2.],\n",
              "        [21.,  1.,  0.,  1.,  0.,  0.,  0.,  0.,  3.,  2.],\n",
              "        [20.,  1.,  1.,  0.,  0.,  1.,  1.,  0.,  0.,  4.],\n",
              "        [20.,  0.,  0.,  1.,  1.,  1.,  0.,  0.,  1.,  4.],\n",
              "        [18.,  0.,  0.,  0.,  1.,  1.,  2.,  0.,  0.,  6.],\n",
              "        [15.,  2.,  0.,  0.,  0.,  1.,  1.,  1.,  1.,  7.],\n",
              "        [15.,  0.,  0.,  2.,  0.,  1.,  0.,  2.,  1.,  7.],\n",
              "        [16.,  2.,  1.,  1.,  0.,  0.,  0.,  1.,  2.,  5.],\n",
              "        [18.,  0.,  0.,  0.,  0.,  1.,  1.,  3.,  0.,  5.],\n",
              "        [15.,  1.,  0.,  2.,  2.,  0.,  0.,  1.,  0.,  7.],\n",
              "        [16.,  0.,  0.,  0.,  1.,  1.,  1.,  1.,  0.,  8.],\n",
              "        [19.,  0.,  0.,  2.,  0.,  1.,  1.,  0.,  1.,  4.],\n",
              "        [20.,  2.,  0.,  1.,  0.,  0.,  1.,  2.,  1.,  1.],\n",
              "        [24.,  0.,  1.,  1.,  0.,  0.,  1.,  0.,  0.,  1.],\n",
              "        [25.,  0.,  1.,  0.,  0.,  0.,  0.,  0.,  0.,  2.],\n",
              "        [25.,  1.,  0.,  0.,  0.,  0.,  0.,  1.,  0.,  1.],\n",
              "        [26.,  0.,  1.,  0.,  1.,  0.,  0.,  0.,  0.,  0.],\n",
              "        [28.,  0.,  0.,  0.,  0.,  0.,  0.,  0.,  0.,  0.],\n",
              "        [28.,  0.,  0.,  0.,  0.,  0.,  0.,  0.,  0.,  0.],\n",
              "        [28.,  0.,  0.,  0.,  0.,  0.,  0.,  0.,  0.,  0.],\n",
              "        [28.,  0.,  0.,  0.,  0.,  0.,  0.,  0.,  0.,  0.]]),\n",
              " array([0. , 0.1, 0.2, 0.3, 0.4, 0.5, 0.6, 0.7, 0.8, 0.9, 1. ]),\n",
              " <a list of 28 Lists of Patches objects>)"
            ]
          },
          "metadata": {
            "tags": []
          },
          "execution_count": 5
        },
        {
          "output_type": "display_data",
          "data": {
            "image/png": "[encoded data removed]",
            "text/plain": [
              "<Figure size 432x288 with 1 Axes>"
            ]
          },
          "metadata": {
            "tags": [],
            "needs_background": "light"
          }
        }
      ]
    },
    {
      "cell_type": "markdown",
      "metadata": {
        "colab_type": "text",
        "id": "votCeFOGtVfI"
      },
      "source": [
        "💡 **Always normalize your input data.**\n",
        "\n",
        "And we must do the same for the test dataset:"
      ]
    },
    {
      "cell_type": "code",
      "metadata": {
        "colab_type": "code",
        "id": "QGVarm2ItVfL",
        "colab": {}
      },
      "source": [
        "x_test = x_test/255."
      ],
      "execution_count": 6,
      "outputs": []
    },
    {
      "cell_type": "markdown",
      "metadata": {
        "colab_type": "text",
        "id": "n4QP_ozjtVfR"
      },
      "source": [
        "We should also check our targets: "
      ]
    },
    {
      "cell_type": "code",
      "metadata": {
        "colab_type": "code",
        "id": "tWDbXQCotVfT",
        "colab": {
          "base_uri": "https://localhost:8080/",
          "height": 35
        },
        "outputId": "230cb08a-845a-4748-a5d6-03a6d8326778"
      },
      "source": [
        "y_train[0]"
      ],
      "execution_count": 9,
      "outputs": [
        {
          "output_type": "execute_result",
          "data": {
            "text/plain": [
              "5"
            ]
          },
          "metadata": {
            "tags": []
          },
          "execution_count": 9
        }
      ]
    },
    {
      "cell_type": "markdown",
      "metadata": {
        "colab_type": "text",
        "id": "wzeZSdx9tVfa"
      },
      "source": [
        "For the reasons explained in [our first keras tutorial](https://thedatafrog.com/first-neural-network-keras/), we're going to perform one-hot encoding on the targets: "
      ]
    },
    {
      "cell_type": "code",
      "metadata": {
        "colab_type": "code",
        "id": "1oiAvEIxtVfc",
        "colab": {
          "base_uri": "https://localhost:8080/",
          "height": 35
        },
        "outputId": "7bc80d62-ad83-4796-db88-9e5890406085"
      },
      "source": [
        "from keras.utils import np_utils\n",
        "y_train = np_utils.to_categorical(y_train, 10)\n",
        "y_test = np_utils.to_categorical(y_test, 10)\n",
        "print(y_train[0]) "
      ],
      "execution_count": 7,
      "outputs": [
        {
          "output_type": "stream",
          "text": [
            "[0. 0. 0. 0. 0. 1. 0. 0. 0. 0.]\n"
          ],
          "name": "stdout"
        }
      ]
    },
    {
      "cell_type": "markdown",
      "metadata": {
        "colab_type": "text",
        "id": "YMUeoGyxtVfr"
      },
      "source": [
        "## Convolutional Neural Networks"
      ]
    },
    {
      "cell_type": "markdown",
      "metadata": {
        "colab_type": "text",
        "id": "zjZ6JG1LtVft"
      },
      "source": [
        "Classifying handwritten digits in 10 categories is a task of image recognition. \n",
        "\n",
        "Since convolutional neural networks are known to provide excellent performance for image recognition, we're going to use them. \n",
        "\n",
        "A convolutional neural network for image classification typically features the following layers: \n",
        "\n",
        "* the first layers are **convolutional layers**, interleaved with **pooling layers**. The role of these layers is to extract interesting features from the image.\n",
        "* then come  **dense layers**, which interpret the features from the first stage, and provide the probability for the image to belong to each category. \n",
        "\n",
        "In addition to these, **dropout** layers can be added to regularize the network or in other words, to make it more stable. \n",
        "\n",
        "Before building the network, I'd like to explain each kind of layer in details. "
      ]
    },
    {
      "cell_type": "markdown",
      "metadata": {
        "colab_type": "text",
        "id": "CYREa4eftVfv"
      },
      "source": [
        "### Convolutional layers"
      ]
    },
    {
      "cell_type": "markdown",
      "metadata": {
        "colab_type": "text",
        "id": "rxK8mGf0tVfx"
      },
      "source": [
        "A 2D [convolutional layer](https://keras.io/layers/convolutional/) scans the input image from left to right and from top to bottom, with a small window, called the **kernel**. In the example below, we use a window of 5x5 pixel. After every step, the image moves right. Here, we use a **stride** of 1 pixel, meaning that we move the window by 1 pixel. When the right border of the window hits the right border of the image, the window is returned to the left and moved down by 1 pixel. \n",
        "\n",
        "![](https://github.com/cbernet/maldives/blob/master/hwd_deeplearning_google/conv_layer.png?raw=1)\n",
        "\n",
        "At each step, the pixels within the window are considered and a number of features are extracted. Each feature is just a value. Let's say there are **nf** features to be extracted for each position of the window (nf could be of the order of 10). \n",
        "\n",
        "At first these features are completely meaningless, but the network is going to be trained to extract meaningful features. For example, if you do face recognition, the features might be related to the presence of an eye or a nose. For now, just keep in mind that a fixed number of values are extracted for each window, and that these values are going to make sense to the network (and maybe not to us!).\n",
        "\n",
        "Now, what kind of data do we get out of the convolutional layer? \n",
        "Let **(nx, ny)** be the shape of the picture, so nx and ny are the numbers of pixels in the image along the horizontal and vertical directions, respectively. \n",
        "\n",
        "For each window position, we get 10 features, and the window positions are arranged in a 2D array. So the output of the convolutional layer is a 3D array (ox, oy, nf), where **ox** and **oy** are the numbers of output pixels along the horizontal and vertical directions, and nf is the number of features for each pixel.\n",
        "\n",
        "The user (we) decide on the number of features to be extracted, so we know that. But what about ox and oy? \n",
        "\n",
        "The answer is simple. For example, the number of output pixels along the horizontal direction is **ox = nx - kernel_size + 1**. \n",
        "\n",
        "To convince yourself, you can use the simple case below, with an image of size 7x5 and a window of size 3x3.  \n",
        "\n",
        "![](https://raw.githubusercontent.com/cbernet/maldives/master/hwd_deeplearning_google/conv_layer_simple.png)\n",
        "\n",
        "Ok... I have spent three hours in blender trying to model a convolutional layer in 3D as an illustration, and barely managed to model a cube. So I gave up on this software and, as a last resort, went back to my favorite 3D modelling hardware: \n",
        "\n",
        "![](https://raw.githubusercontent.com/cbernet/maldives/master/hwd_deeplearning_google/crayon.png)\n",
        "\n",
        "\n",
        "And here's the result, with shading and transparency! \n",
        "\n",
        "![](https://raw.githubusercontent.com/cbernet/maldives/master/hwd_deeplearning_google/conv_layer_schema.png)"
      ]
    },
    {
      "cell_type": "markdown",
      "metadata": {
        "colab_type": "text",
        "id": "ik0k9DqUtVfz"
      },
      "source": [
        "### Pooling layers\n",
        "\n",
        "Pooling layers are used to reduce the size of the data at a given stage to reduce the complexity of the network. In this case we will use 2D pooling layers, and in particular, the [MaxPooling2D](https://keras.io/layers/pooling/). \n",
        "\n",
        "The keras documentation is a bit scarce, so let's see how it works on a simple image. Here we use [seaborn](https://seaborn.pydata.org/), a high-level interface to matplotlib, to get a heat map with annotations."
      ]
    },
    {
      "cell_type": "code",
      "metadata": {
        "colab_type": "code",
        "id": "cAugHvJNtVf3",
        "colab": {
          "base_uri": "https://localhost:8080/",
          "height": 341
        },
        "outputId": "881692d2-f230-40dd-b571-000dde6d6f61"
      },
      "source": [
        "import numpy as np\n",
        "import seaborn as sns\n",
        "\n",
        "# building the image of a zero:\n",
        "zero = np.array([[0,0,0,1,0,0,0,0],\n",
        "                 [0,1,2,3,2,1,0,0],\n",
        "                 [0,4,3,1,3,2,0,0],\n",
        "                 [1,5,2,0,0,5,1,0],\n",
        "                 [2,4,0,0,0,6,2,0],\n",
        "                 [1,3,0,0,0,4,1,0],\n",
        "                 [0,2,3,2,1,3,0,0],\n",
        "                 [0,0,3,4,3,1,0,0]])\n",
        "sns.heatmap(zero, annot=True)"
      ],
      "execution_count": 12,
      "outputs": [
        {
          "output_type": "stream",
          "text": [
            "/usr/local/lib/python3.6/dist-packages/statsmodels/tools/_testing.py:19: FutureWarning: pandas.util.testing is deprecated. Use the functions in the public API at pandas.testing instead.\n",
            "  import pandas.util.testing as tm\n"
          ],
          "name": "stderr"
        },
        {
          "output_type": "execute_result",
          "data": {
            "text/plain": [
              "<matplotlib.axes._subplots.AxesSubplot at 0x7fc635016c50>"
            ]
          },
          "metadata": {
            "tags": []
          },
          "execution_count": 12
        },
        {
          "output_type": "display_data",
          "data": {
            "image/png": "[encoded data removed]",
            "text/plain": [
              "<Figure size 432x288 with 2 Axes>"
            ]
          },
          "metadata": {
            "tags": [],
            "needs_background": "light"
          }
        }
      ]
    },
    {
      "cell_type": "markdown",
      "metadata": {
        "colab_type": "text",
        "id": "RIFajNK8tVgC"
      },
      "source": [
        "Pooling layers are based on a pooling window that moves across the image like the kernel of the convolutional layers. For every position of the pooling window, a number is extracted, for example: \n",
        "\n",
        "* the maximum value in the window (max pooling)\n",
        "* the average value over the window (average pooling)\n",
        "\n",
        "We're going to use [scikit-image](http://scikit-image.org/docs/dev/auto_examples/numpy_operations/plot_view_as_blocks.html) to perform each pooling operation. By the way I didn't know scikit-image, I just googled \"max pooling numpy\". Google is your friend, especially when you're trying to do something in python"
      ]
    },
    {
      "cell_type": "code",
      "metadata": {
        "colab_type": "code",
        "id": "NzMgr3M1tVgF",
        "colab": {}
      },
      "source": [
        "from skimage.util import view_as_blocks\n",
        "pooling_window_shape = (2,2)\n",
        "view = view_as_blocks(zero, pooling_window_shape)\n",
        "flatten_view = view.reshape(view.shape[0], view.shape[1], -1)\n",
        "max_view = np.max(flatten_view, axis=2)"
      ],
      "execution_count": 24,
      "outputs": []
    },
    {
      "cell_type": "code",
      "metadata": {
        "colab_type": "code",
        "id": "OOd8CPMPtVgN",
        "colab": {
          "base_uri": "https://localhost:8080/",
          "height": 287
        },
        "outputId": "c17346fa-3e9e-4eab-e702-8b128af8659f"
      },
      "source": [
        "sns.heatmap(max_view, annot=True)"
      ],
      "execution_count": 25,
      "outputs": [
        {
          "output_type": "execute_result",
          "data": {
            "text/plain": [
              "<matplotlib.axes._subplots.AxesSubplot at 0x7fc630d0e208>"
            ]
          },
          "metadata": {
            "tags": []
          },
          "execution_count": 25
        },
        {
          "output_type": "display_data",
          "data": {
            "image/png": "[encoded data removed]",
            "text/plain": [
              "<Figure size 432x288 with 2 Axes>"
            ]
          },
          "metadata": {
            "tags": [],
            "needs_background": "light"
          }
        }
      ]
    },
    {
      "cell_type": "markdown",
      "metadata": {
        "colab_type": "text",
        "id": "gRi_9ACttVgg"
      },
      "source": [
        "Please check that the pooled values are what you expect for both the max pooling and the average pooling operations. \n",
        "\n",
        "Coming back to our case, we will want to pool after a convolutional layer. The input to the pooling is a 3D array with several values (the features) for each pixel. \n",
        "\n",
        "In this case, the pooling layer will pool each feature separately for each position of the pooling window. \n",
        "\n",
        "So the pooling will reduce the dimensionality along the x and y directions, but the number of features in output will stay the same. That's good, because maxing or averaging over all features would not make any sense. "
      ]
    },
    {
      "cell_type": "markdown",
      "metadata": {
        "colab_type": "text",
        "id": "YrjHyl0FtVgj"
      },
      "source": [
        "### Dense layers\n",
        "\n",
        "A sub-network of dense layers is added at the end of the deep neural network. The aim of this sub-network is to make use of the features extracted by the previous layers to perform the classification.\n",
        "\n",
        "We know about dense layers already since the tutorial about [handwritten digits with scikit-learn](https://thedatafrog.com/handwritten-digit-recognition-scikit-learn/), so I'm not going to give details here. \n",
        "\n",
        "Two things to note: \n",
        "\n",
        "**1- Dense layers are fully connected to the previous layer.** This means that each neuron in the dense layer has a connection to all neurons in the previous layer. \n",
        "\n",
        "**2- The input to a dense layer is 1D.** But the output of our convolutional (or pooling) layers is 3D... So we will need to flatten the 3D data to 1D, by just serializing all numbers. To do that in keras, we will insert a [Flatten layer](https://keras.io/layers/core/) just before the dense layer. \n",
        "\n",
        "The last layer of our dense sub-network will have a **softmax activation**. This means that the output of neuron $k$ is set to \n",
        "\n",
        "$$y_k = \\frac{e^{z_k}}{\\sum_{i=1}^{N} e^{z_i}}$$,\n",
        "\n",
        "where the sum runs over the N neurons of the layer. \n",
        "\n",
        "Please note that the softmax activation is well suited to classification problems: \n",
        "\n",
        "* the probability for a given class is bound between 0 and 1. \n",
        "* all probabilities sum up to 1\n",
        "\n",
        "### Dropout layers \n",
        "\n",
        "Deep convolutional neural networks are complicated and have a lot of tunable parameters. And for this reason, they can easily go wrong.\n",
        "\n",
        "During the training, the network can **overfit** the training data. This means that it gets very good at recognizing specific examples of the training data, but looses its ability to recognize new, unseen examples, and loses generality. This is typically due to parts of the network that evolve in a coordinated way and in the wrong direction during training. \n",
        "\n",
        "**Dropout regularization** is a way to reduce this effect  \n",
        "\n",
        "To perform dropout normalization, we will insert an additional layer just before the dense sub-network, containing one neuron per output variable in the previous layer. Each neuron acts as a gate, and is turned on and off randomly during the training. When it's on, the corresponding variable flows to the following dense layer. When it's off, the variable is blocked, and the neuron outputs zero. \n",
        "\n",
        "In this way, some part of the network, which is always changing, is deactivated, and only the rest is trained.\n",
        "\n",
        "After training, for the evaluation of the unseen test samples, the dropout layer is removed, and the whole network is used. \n",
        "\n",
        "To learn more about dropout regularization, you can refer to the [original paper](http://jmlr.org/papers/volume15/srivastava14a.old/srivastava14a.pdf).\n",
        "\n"
      ]
    },
    {
      "cell_type": "markdown",
      "metadata": {
        "colab_type": "text",
        "id": "pgluyk5btVgk"
      },
      "source": [
        "## Building the network \n",
        "\n",
        "Let's first build a simple convolutional neural network with keras.  "
      ]
    },
    {
      "cell_type": "code",
      "metadata": {
        "colab_type": "code",
        "id": "UlOHJrMZtVgm",
        "colab": {}
      },
      "source": [
        "from keras import models\n",
        "from keras import layers"
      ],
      "execution_count": 8,
      "outputs": []
    },
    {
      "cell_type": "markdown",
      "metadata": {
        "colab_type": "text",
        "id": "eC6AaklatVgr"
      },
      "source": [
        "We start with the convolutional layer, specifying that: \n",
        "\n",
        "* we want to extract 10 features for each kernel\n",
        "* the kernel size is 4x4\n",
        "* the input images are 28x28 pixels\n",
        "* we use a ReLU activation. We could have used a sigmoid, but the ReLU is way better for deep neural networks. If you want to know more, here is a [nice post about ReLUs](https://www.kaggle.com/dansbecker/rectified-linear-units-relu-in-deep-learning)"
      ]
    },
    {
      "cell_type": "code",
      "metadata": {
        "colab_type": "code",
        "id": "pu0SWOnUtVgt",
        "colab": {}
      },
      "source": [
        "model = models.Sequential()\n",
        "model.add( layers.Conv2D(10, 4, input_shape=(28,28,1), activation='relu') )"
      ],
      "execution_count": 2,
      "outputs": []
    },
    {
      "cell_type": "markdown",
      "metadata": {
        "colab_type": "text",
        "id": "VEWhpXJItVg5"
      },
      "source": [
        "At this stage, here is a summary of our network:"
      ]
    },
    {
      "cell_type": "code",
      "metadata": {
        "colab_type": "code",
        "id": "Zv4dbI6EtVg-",
        "colab": {
          "base_uri": "https://localhost:8080/",
          "height": 170
        },
        "outputId": "5b7d590f-6a43-4ef4-9ce8-92417c34039a"
      },
      "source": [
        "model.summary()"
      ],
      "execution_count": null,
      "outputs": [
        {
          "output_type": "stream",
          "text": [
            "_________________________________________________________________\n",
            "Layer (type)                 Output Shape              Param #   \n",
            "=================================================================\n",
            "conv2d_1 (Conv2D)            (None, 25, 25, 10)        170       \n",
            "=================================================================\n",
            "Total params: 170\n",
            "Trainable params: 170\n",
            "Non-trainable params: 0\n",
            "_________________________________________________________________\n"
          ],
          "name": "stdout"
        }
      ]
    },
    {
      "cell_type": "markdown",
      "metadata": {
        "colab_type": "text",
        "id": "ThENrOldtVhD"
      },
      "source": [
        "In the output shape, we should ignore the first `None`. Then come the shape of the output array. The x and y dimensions are of size 28 - 4 + 1 = 25, and the last dimension corresponds to the number of features we have required. So far so good. \n",
        "\n",
        "Now, we add the dense neural network, forgetting about dropout for now. As a starting point, let's try a simple dense subnetwork with a single hidden layer of 100 neurons. Before the dense sub-network, the 3D array is flattened."
      ]
    },
    {
      "cell_type": "code",
      "metadata": {
        "colab_type": "code",
        "id": "rzk7CUDztVhF",
        "colab": {}
      },
      "source": [
        "model.add( layers.Flatten() )\n",
        "model.add( layers.Dense(100, activation='relu') )"
      ],
      "execution_count": null,
      "outputs": []
    },
    {
      "cell_type": "markdown",
      "metadata": {
        "colab_type": "text",
        "id": "ssV-E3cvtVhG"
      },
      "source": [
        "And finally, our final softmax layer with 10 neurons, for the 10 digit categories:"
      ]
    },
    {
      "cell_type": "code",
      "metadata": {
        "colab_type": "code",
        "id": "vMUArCqutVhI",
        "colab": {}
      },
      "source": [
        "model.add( layers.Dense(10, activation='softmax') )"
      ],
      "execution_count": null,
      "outputs": []
    },
    {
      "cell_type": "code",
      "metadata": {
        "colab_type": "code",
        "id": "C5Q-4i2QtVhM",
        "colab": {
          "base_uri": "https://localhost:8080/",
          "height": 272
        },
        "outputId": "5bbe286e-a613-432d-eeac-ee702ed8b76d"
      },
      "source": [
        "model.summary()"
      ],
      "execution_count": null,
      "outputs": [
        {
          "output_type": "stream",
          "text": [
            "_________________________________________________________________\n",
            "Layer (type)                 Output Shape              Param #   \n",
            "=================================================================\n",
            "conv2d_1 (Conv2D)            (None, 25, 25, 10)        170       \n",
            "_________________________________________________________________\n",
            "flatten_1 (Flatten)          (None, 6250)              0         \n",
            "_________________________________________________________________\n",
            "dense_1 (Dense)              (None, 100)               625100    \n",
            "_________________________________________________________________\n",
            "dense_2 (Dense)              (None, 10)                1010      \n",
            "=================================================================\n",
            "Total params: 626,280\n",
            "Trainable params: 626,280\n",
            "Non-trainable params: 0\n",
            "_________________________________________________________________\n"
          ],
          "name": "stdout"
        }
      ]
    },
    {
      "cell_type": "markdown",
      "metadata": {
        "colab_type": "text",
        "id": "PDTkzJortVhR"
      },
      "source": [
        "We have more than 600k parameters to optimize! let's compile the model, and then train it."
      ]
    },
    {
      "cell_type": "code",
      "metadata": {
        "colab_type": "code",
        "id": "11jVHnhetVhS",
        "colab": {}
      },
      "source": [
        "from keras.optimizers import RMSprop"
      ],
      "execution_count": 9,
      "outputs": []
    },
    {
      "cell_type": "code",
      "metadata": {
        "colab_type": "code",
        "id": "RVC9fzwg2Glz",
        "colab": {}
      },
      "source": [
        "model.compile(loss='categorical_crossentropy',\n",
        "              optimizer=RMSprop(lr=0.001),\n",
        "              metrics=['acc'])"
      ],
      "execution_count": null,
      "outputs": []
    },
    {
      "cell_type": "code",
      "metadata": {
        "colab_type": "code",
        "id": "Pz38CbJQtVhY",
        "colab": {}
      },
      "source": [
        "kx_train = x_train.reshape(len(x_train),28,28,1)\n",
        "kx_test = x_test.reshape(len(x_test),28,28,1)"
      ],
      "execution_count": 12,
      "outputs": []
    },
    {
      "cell_type": "code",
      "metadata": {
        "colab_type": "code",
        "id": "TH-ETwuEtVhb",
        "colab": {
          "base_uri": "https://localhost:8080/",
          "height": 34
        },
        "outputId": "22de3e0c-0c30-4edf-8672-e00ed049727a"
      },
      "source": [
        "kx_test.shape"
      ],
      "execution_count": null,
      "outputs": [
        {
          "output_type": "execute_result",
          "data": {
            "text/plain": [
              "(10000, 28, 28, 1)"
            ]
          },
          "metadata": {
            "tags": []
          },
          "execution_count": 22
        }
      ]
    },
    {
      "cell_type": "code",
      "metadata": {
        "colab_type": "code",
        "id": "oihTfuPBtVhd",
        "colab": {
          "base_uri": "https://localhost:8080/",
          "height": 445
        },
        "outputId": "fea9763b-004f-4bcf-e6ce-affc1c261235"
      },
      "source": [
        "history = model.fit(kx_train, y_train, validation_data=(kx_test,y_test),\n",
        "                    batch_size=50, epochs=10)"
      ],
      "execution_count": null,
      "outputs": [
        {
          "output_type": "stream",
          "text": [
            "WARNING:tensorflow:From /usr/local/lib/python2.7/dist-packages/tensorflow/python/ops/math_ops.py:3066: to_int32 (from tensorflow.python.ops.math_ops) is deprecated and will be removed in a future version.\n",
            "Instructions for updating:\n",
            "Use tf.cast instead.\n",
            "Train on 60000 samples, validate on 10000 samples\n",
            "Epoch 1/10\n",
            "60000/60000 [==============================] - 9s 153us/step - loss: 0.1713 - acc: 0.9483 - val_loss: 0.0746 - val_acc: 0.9760\n",
            "Epoch 2/10\n",
            "60000/60000 [==============================] - 8s 128us/step - loss: 0.0581 - acc: 0.9823 - val_loss: 0.0515 - val_acc: 0.9817\n",
            "Epoch 3/10\n",
            "60000/60000 [==============================] - 8s 129us/step - loss: 0.0382 - acc: 0.9886 - val_loss: 0.0475 - val_acc: 0.9847\n",
            "Epoch 4/10\n",
            "60000/60000 [==============================] - 8s 130us/step - loss: 0.0272 - acc: 0.9920 - val_loss: 0.0440 - val_acc: 0.9856\n",
            "Epoch 5/10\n",
            "60000/60000 [==============================] - 8s 129us/step - loss: 0.0197 - acc: 0.9942 - val_loss: 0.0520 - val_acc: 0.9843\n",
            "Epoch 6/10\n",
            "60000/60000 [==============================] - 8s 129us/step - loss: 0.0145 - acc: 0.9959 - val_loss: 0.0757 - val_acc: 0.9816\n",
            "Epoch 7/10\n",
            "60000/60000 [==============================] - 8s 129us/step - loss: 0.0107 - acc: 0.9969 - val_loss: 0.0578 - val_acc: 0.9844\n",
            "Epoch 8/10\n",
            "60000/60000 [==============================] - 8s 131us/step - loss: 0.0081 - acc: 0.9975 - val_loss: 0.0605 - val_acc: 0.9850\n",
            "Epoch 9/10\n",
            "60000/60000 [==============================] - 8s 130us/step - loss: 0.0060 - acc: 0.9983 - val_loss: 0.0774 - val_acc: 0.9837\n",
            "Epoch 10/10\n",
            "60000/60000 [==============================] - 8s 130us/step - loss: 0.0042 - acc: 0.9989 - val_loss: 0.0885 - val_acc: 0.9829\n"
          ],
          "name": "stdout"
        }
      ]
    },
    {
      "cell_type": "markdown",
      "metadata": {
        "colab_type": "text",
        "id": "MPta7Q6gFCD6"
      },
      "source": [
        "We're getting an accuracy larger than 98% from this first try. Much better than the mere 91% we got from the simple dense neural net we set up with scikit-learn. Deep learning starts to show its power!\n",
        "\n",
        "And it's not the end of the story. Let's try and do even better. \n",
        "\n",
        "## Tuning the network \n",
        "\n",
        "### Dealing with overfitting\n",
        "\n",
        "A neural network has *parameters* (weights and biases) that are tuned during the training. The **hyperparameters** are the parameters affecting the network configuration, such as the number of layers, the number of neurons per layer, the number of features extracted by the convolutional layers, etc. \n",
        "\n",
        "We can try and improve the performance by tuning the hyperparameters. \n",
        "\n",
        "But how should we start? \n",
        "\n",
        "First of all: \n",
        "\n",
        "💡**VERY IMPORTANT: Start with a very simple network, and tune it by making it more complex.**\n",
        "\n",
        "If you start from a complex network, you'll have many more hyperparameters to play with, and it's easy to get lost. \n",
        "\n",
        "Then, we should not tune blindly, so let's start by having a more detailed look at the performance. First of all, we can plot the evolution of the accuracy as a function of the training evolution. The accuracy is computed for both the training and the test samples. \n"
      ]
    },
    {
      "cell_type": "code",
      "metadata": {
        "colab_type": "code",
        "id": "KyqZxpfuuiXz",
        "colab": {}
      },
      "source": [
        "def plot_accuracy(history, miny=None):\n",
        "  acc = history.history['acc']\n",
        "  test_acc = history.history['val_acc']\n",
        "  epochs = range(len(acc))\n",
        "  plt.plot(epochs, acc)\n",
        "  plt.plot(epochs, test_acc)\n",
        "  if miny:\n",
        "    plt.ylim(miny, 1.0)\n",
        "  plt.title('accuracy') \n",
        "  plt.figure()\n"
      ],
      "execution_count": 15,
      "outputs": []
    },
    {
      "cell_type": "code",
      "metadata": {
        "colab_type": "code",
        "id": "2a0GtdyuH-tK",
        "colab": {
          "base_uri": "https://localhost:8080/",
          "height": 379
        },
        "outputId": "75a16be7-5c77-43cc-fd42-66f89010b9e4"
      },
      "source": [
        "plot_accuracy(history, miny=0.95)"
      ],
      "execution_count": null,
      "outputs": [
        {
          "output_type": "display_data",
          "data": {
            "image/png": "[encoded data removed]",
            "text/plain": [
              "<Figure size 576x396 with 1 Axes>"
            ]
          },
          "metadata": {
            "tags": []
          }
        },
        {
          "output_type": "display_data",
          "data": {
            "text/plain": [
              "<Figure size 576x396 with 0 Axes>"
            ]
          },
          "metadata": {
            "tags": []
          }
        }
      ]
    },
    {
      "cell_type": "markdown",
      "metadata": {
        "colab_type": "text",
        "id": "vM43vThyIxOH"
      },
      "source": [
        "We see that the accuracy on the training sample continuously improves: the network gets better and better at recognizing the digits of this sample, because it's trained to do so. \n",
        "\n",
        "But the accuracy on the testing sample, which is not used for training, plateaus very early at about 98.5%. Training further will not help. \n",
        "\n",
        "That's a clear sign of overfitting. And the more complex the network, the easier it is for it to learn the specific examples  of the training sample. \n",
        "\n",
        "**So our first step should not be to make the network more complex, but to solve this overfitting problem. **\n",
        "\n",
        "To do that, we'll create a new instance of our network, in which we will introduce a dropout layer, just before the dense sub-network:"
      ]
    },
    {
      "cell_type": "code",
      "metadata": {
        "colab_type": "code",
        "id": "-RMe3RhFIBMs",
        "colab": {
          "base_uri": "https://localhost:8080/",
          "height": 377
        },
        "outputId": "1d859b13-0a99-45f2-dd09-936269368cdb"
      },
      "source": [
        "model_do = models.Sequential()\n",
        "model_do.add( layers.Conv2D(10, 4, input_shape=(28,28,1), activation='relu') )\n",
        "model_do.add( layers.Flatten() )\n",
        "model_do.add( layers.Dropout(rate=0.5) )\n",
        "model_do.add( layers.Dense(100, activation='relu') )\n",
        "model_do.add( layers.Dense(10, activation='softmax') )\n",
        "model_do.summary()\n"
      ],
      "execution_count": null,
      "outputs": [
        {
          "output_type": "stream",
          "text": [
            "WARNING:tensorflow:From /usr/local/lib/python2.7/dist-packages/keras/backend/tensorflow_backend.py:3445: calling dropout (from tensorflow.python.ops.nn_ops) with keep_prob is deprecated and will be removed in a future version.\n",
            "Instructions for updating:\n",
            "Please use `rate` instead of `keep_prob`. Rate should be set to `rate = 1 - keep_prob`.\n",
            "_________________________________________________________________\n",
            "Layer (type)                 Output Shape              Param #   \n",
            "=================================================================\n",
            "conv2d_2 (Conv2D)            (None, 25, 25, 10)        170       \n",
            "_________________________________________________________________\n",
            "flatten_2 (Flatten)          (None, 6250)              0         \n",
            "_________________________________________________________________\n",
            "dropout_1 (Dropout)          (None, 6250)              0         \n",
            "_________________________________________________________________\n",
            "dense_3 (Dense)              (None, 100)               625100    \n",
            "_________________________________________________________________\n",
            "dense_4 (Dense)              (None, 10)                1010      \n",
            "=================================================================\n",
            "Total params: 626,280\n",
            "Trainable params: 626,280\n",
            "Non-trainable params: 0\n",
            "_________________________________________________________________\n"
          ],
          "name": "stdout"
        }
      ]
    },
    {
      "cell_type": "markdown",
      "metadata": {
        "colab_type": "text",
        "id": "m78DB4CtKw_K"
      },
      "source": [
        "The dropout layer has the same output shape as the flatten layer just before. It will drop 50% of the values from flatten, chosen on a random basis.\n",
        "\n",
        "Let's compile, fit, and then check the performance.\n"
      ]
    },
    {
      "cell_type": "code",
      "metadata": {
        "colab_type": "code",
        "id": "9jxrFBHzKloV",
        "colab": {
          "base_uri": "https://localhost:8080/",
          "height": 374
        },
        "outputId": "70febe93-7622-4c6f-a43c-924e64a7f235"
      },
      "source": [
        "model_do.compile(loss='categorical_crossentropy',\n",
        "              optimizer=RMSprop(lr=0.001),\n",
        "              metrics=['acc'])\n",
        "\n",
        "history_do = model_do.fit(kx_train, y_train, validation_data=(kx_test,y_test),\n",
        "                    batch_size=50, epochs=10)"
      ],
      "execution_count": null,
      "outputs": [
        {
          "output_type": "stream",
          "text": [
            "Train on 60000 samples, validate on 10000 samples\n",
            "Epoch 1/10\n",
            "60000/60000 [==============================] - 8s 140us/step - loss: 0.1954 - acc: 0.9410 - val_loss: 0.0674 - val_acc: 0.9788\n",
            "Epoch 2/10\n",
            "60000/60000 [==============================] - 8s 137us/step - loss: 0.0811 - acc: 0.9750 - val_loss: 0.0569 - val_acc: 0.9802\n",
            "Epoch 3/10\n",
            "60000/60000 [==============================] - 8s 137us/step - loss: 0.0634 - acc: 0.9811 - val_loss: 0.0498 - val_acc: 0.9837\n",
            "Epoch 4/10\n",
            "60000/60000 [==============================] - 8s 138us/step - loss: 0.0545 - acc: 0.9833 - val_loss: 0.0442 - val_acc: 0.9855\n",
            "Epoch 5/10\n",
            "60000/60000 [==============================] - 8s 138us/step - loss: 0.0496 - acc: 0.9850 - val_loss: 0.0458 - val_acc: 0.9851\n",
            "Epoch 6/10\n",
            "60000/60000 [==============================] - 8s 137us/step - loss: 0.0454 - acc: 0.9861 - val_loss: 0.0417 - val_acc: 0.9860\n",
            "Epoch 7/10\n",
            "60000/60000 [==============================] - 8s 137us/step - loss: 0.0419 - acc: 0.9875 - val_loss: 0.0429 - val_acc: 0.9866\n",
            "Epoch 8/10\n",
            "60000/60000 [==============================] - 8s 138us/step - loss: 0.0399 - acc: 0.9882 - val_loss: 0.0442 - val_acc: 0.9878\n",
            "Epoch 9/10\n",
            "60000/60000 [==============================] - 8s 138us/step - loss: 0.0379 - acc: 0.9889 - val_loss: 0.0420 - val_acc: 0.9869\n",
            "Epoch 10/10\n",
            "60000/60000 [==============================] - 8s 138us/step - loss: 0.0370 - acc: 0.9891 - val_loss: 0.0453 - val_acc: 0.9864\n"
          ],
          "name": "stdout"
        }
      ]
    },
    {
      "cell_type": "code",
      "metadata": {
        "colab_type": "code",
        "id": "TFsDJTK-LnIe",
        "colab": {
          "base_uri": "https://localhost:8080/",
          "height": 379
        },
        "outputId": "323e25c7-9c39-493e-ff55-dfee9be188eb"
      },
      "source": [
        "plot_accuracy(history_do, miny=0.95)"
      ],
      "execution_count": null,
      "outputs": [
        {
          "output_type": "display_data",
          "data": {
            "image/png": "[encoded data removed]",
            "text/plain": [
              "<Figure size 576x396 with 1 Axes>"
            ]
          },
          "metadata": {
            "tags": []
          }
        },
        {
          "output_type": "display_data",
          "data": {
            "text/plain": [
              "<Figure size 576x396 with 0 Axes>"
            ]
          },
          "metadata": {
            "tags": []
          }
        }
      ]
    },
    {
      "cell_type": "markdown",
      "metadata": {
        "colab_type": "text",
        "id": "O0-8a2kPPO9J"
      },
      "source": [
        "The situation is improved, but the network would still be able to overtrain, given enough time (more epochs). And we might be seeing a hint for overfitting starting at epoch 8. Anyway, let's stick with this setting for now,  and let's try to make our network more complex. \n",
        "\n",
        "One thing we can do is to play with the hyperparameters of the dense subnetwork. Let's try to add neurons to the hidden layer.\n",
        "\n",
        "### Tuning the dense sub-network"
      ]
    },
    {
      "cell_type": "code",
      "metadata": {
        "colab_type": "code",
        "id": "M3kiFG4L5yHy",
        "colab": {
          "base_uri": "https://localhost:8080/",
          "height": 663
        },
        "outputId": "5d6efc55-9520-4dd7-cb58-63c98578dc3e"
      },
      "source": [
        "model_do_200 = models.Sequential()\n",
        "model_do_200.add( layers.Conv2D(10, 4, input_shape=(28,28,1), activation='relu') )\n",
        "model_do_200.add( layers.Flatten() )\n",
        "model_do_200.add( layers.Dropout(rate=0.5) )\n",
        "model_do_200.add( layers.Dense(200, activation='relu') )\n",
        "model_do_200.add( layers.Dense(10, activation='softmax') )\n",
        "model_do_200.summary()\n",
        "\n",
        "model_do_200.compile(loss='categorical_crossentropy',\n",
        "              optimizer=RMSprop(lr=0.001),\n",
        "              metrics=['acc'])\n",
        "\n",
        "history_do_200 = model_do_200.fit(kx_train, y_train, validation_data=(kx_test,y_test),\n",
        "                    batch_size=50, epochs=10)"
      ],
      "execution_count": null,
      "outputs": [
        {
          "output_type": "stream",
          "text": [
            "_________________________________________________________________\n",
            "Layer (type)                 Output Shape              Param #   \n",
            "=================================================================\n",
            "conv2d_3 (Conv2D)            (None, 25, 25, 10)        170       \n",
            "_________________________________________________________________\n",
            "flatten_3 (Flatten)          (None, 6250)              0         \n",
            "_________________________________________________________________\n",
            "dropout_2 (Dropout)          (None, 6250)              0         \n",
            "_________________________________________________________________\n",
            "dense_5 (Dense)              (None, 200)               1250200   \n",
            "_________________________________________________________________\n",
            "dense_6 (Dense)              (None, 10)                2010      \n",
            "=================================================================\n",
            "Total params: 1,252,380\n",
            "Trainable params: 1,252,380\n",
            "Non-trainable params: 0\n",
            "_________________________________________________________________\n",
            "Train on 60000 samples, validate on 10000 samples\n",
            "Epoch 1/10\n",
            "60000/60000 [==============================] - 10s 163us/step - loss: 0.1824 - acc: 0.9442 - val_loss: 0.0821 - val_acc: 0.9735\n",
            "Epoch 2/10\n",
            "60000/60000 [==============================] - 9s 158us/step - loss: 0.0832 - acc: 0.9748 - val_loss: 0.0617 - val_acc: 0.9801\n",
            "Epoch 3/10\n",
            "60000/60000 [==============================] - 10s 159us/step - loss: 0.0642 - acc: 0.9813 - val_loss: 0.0520 - val_acc: 0.9832\n",
            "Epoch 4/10\n",
            "60000/60000 [==============================] - 10s 159us/step - loss: 0.0546 - acc: 0.9837 - val_loss: 0.0450 - val_acc: 0.9857\n",
            "Epoch 5/10\n",
            "60000/60000 [==============================] - 10s 159us/step - loss: 0.0499 - acc: 0.9852 - val_loss: 0.0587 - val_acc: 0.9841\n",
            "Epoch 6/10\n",
            "60000/60000 [==============================] - 10s 158us/step - loss: 0.0457 - acc: 0.9865 - val_loss: 0.0405 - val_acc: 0.9866\n",
            "Epoch 7/10\n",
            "60000/60000 [==============================] - 9s 158us/step - loss: 0.0449 - acc: 0.9867 - val_loss: 0.0428 - val_acc: 0.9857\n",
            "Epoch 8/10\n",
            "60000/60000 [==============================] - 9s 158us/step - loss: 0.0398 - acc: 0.9881 - val_loss: 0.0425 - val_acc: 0.9865\n",
            "Epoch 9/10\n",
            "60000/60000 [==============================] - 10s 159us/step - loss: 0.0381 - acc: 0.9886 - val_loss: 0.0418 - val_acc: 0.9874\n",
            "Epoch 10/10\n",
            "60000/60000 [==============================] - 10s 158us/step - loss: 0.0372 - acc: 0.9891 - val_loss: 0.0511 - val_acc: 0.9855\n"
          ],
          "name": "stdout"
        }
      ]
    },
    {
      "cell_type": "code",
      "metadata": {
        "colab_type": "code",
        "id": "Q45Q4PACYr9p",
        "colab": {
          "base_uri": "https://localhost:8080/",
          "height": 379
        },
        "outputId": "6eae1624-2b8b-4a47-9fd1-a73bc971e287"
      },
      "source": [
        "plot_accuracy(history_do_200, miny=0.95)"
      ],
      "execution_count": null,
      "outputs": [
        {
          "output_type": "display_data",
          "data": {
            "image/png": "[encoded data removed]",
            "text/plain": [
              "<Figure size 576x396 with 1 Axes>"
            ]
          },
          "metadata": {
            "tags": []
          }
        },
        {
          "output_type": "display_data",
          "data": {
            "text/plain": [
              "<Figure size 576x396 with 0 Axes>"
            ]
          },
          "metadata": {
            "tags": []
          }
        }
      ]
    },
    {
      "cell_type": "markdown",
      "metadata": {
        "colab_type": "text",
        "id": "-5gPqgYHZgmX"
      },
      "source": [
        "The validation accuracy, computed on the training sample, did not improve. \n",
        "\n",
        "But this is already teaching us something: 200 neurons on the hidden dense layer is not better than 100. Now, we started with 100... maybe it was too much.  Could 50 neurons do the job? "
      ]
    },
    {
      "cell_type": "code",
      "metadata": {
        "colab_type": "code",
        "id": "yxgQob5pZFK4",
        "colab": {
          "base_uri": "https://localhost:8080/",
          "height": 663
        },
        "outputId": "002161e2-368b-4aef-aa48-702272302440"
      },
      "source": [
        "model_do_50 = models.Sequential()\n",
        "model_do_50.add( layers.Conv2D(10, 4, input_shape=(28,28,1), activation='relu') )\n",
        "model_do_50.add( layers.Flatten() )\n",
        "model_do_50.add( layers.Dropout(rate=0.5) )\n",
        "model_do_50.add( layers.Dense(50, activation='relu') )\n",
        "model_do_50.add( layers.Dense(10, activation='softmax') )\n",
        "model_do_50.summary()\n",
        "\n",
        "model_do_50.compile(loss='categorical_crossentropy',\n",
        "              optimizer=RMSprop(lr=0.001),\n",
        "              metrics=['acc'])\n",
        "\n",
        "history_do_50 = model_do_50.fit(kx_train, y_train, validation_data=(kx_test,y_test),\n",
        "                    batch_size=50, epochs=10)"
      ],
      "execution_count": null,
      "outputs": [
        {
          "output_type": "stream",
          "text": [
            "_________________________________________________________________\n",
            "Layer (type)                 Output Shape              Param #   \n",
            "=================================================================\n",
            "conv2d_4 (Conv2D)            (None, 25, 25, 10)        170       \n",
            "_________________________________________________________________\n",
            "flatten_4 (Flatten)          (None, 6250)              0         \n",
            "_________________________________________________________________\n",
            "dropout_3 (Dropout)          (None, 6250)              0         \n",
            "_________________________________________________________________\n",
            "dense_7 (Dense)              (None, 50)                312550    \n",
            "_________________________________________________________________\n",
            "dense_8 (Dense)              (None, 10)                510       \n",
            "=================================================================\n",
            "Total params: 313,230\n",
            "Trainable params: 313,230\n",
            "Non-trainable params: 0\n",
            "_________________________________________________________________\n",
            "Train on 60000 samples, validate on 10000 samples\n",
            "Epoch 1/10\n",
            "60000/60000 [==============================] - 8s 132us/step - loss: 0.2584 - acc: 0.9221 - val_loss: 0.1066 - val_acc: 0.9685\n",
            "Epoch 2/10\n",
            "60000/60000 [==============================] - 8s 127us/step - loss: 0.1117 - acc: 0.9656 - val_loss: 0.0742 - val_acc: 0.9782\n",
            "Epoch 3/10\n",
            "60000/60000 [==============================] - 8s 128us/step - loss: 0.0871 - acc: 0.9746 - val_loss: 0.0715 - val_acc: 0.9779\n",
            "Epoch 4/10\n",
            "60000/60000 [==============================] - 8s 127us/step - loss: 0.0743 - acc: 0.9779 - val_loss: 0.0646 - val_acc: 0.9792\n",
            "Epoch 5/10\n",
            "60000/60000 [==============================] - 8s 127us/step - loss: 0.0652 - acc: 0.9805 - val_loss: 0.0649 - val_acc: 0.9804\n",
            "Epoch 6/10\n",
            "60000/60000 [==============================] - 8s 127us/step - loss: 0.0608 - acc: 0.9824 - val_loss: 0.0583 - val_acc: 0.9820\n",
            "Epoch 7/10\n",
            "60000/60000 [==============================] - 8s 127us/step - loss: 0.0556 - acc: 0.9831 - val_loss: 0.0619 - val_acc: 0.9808\n",
            "Epoch 8/10\n",
            "60000/60000 [==============================] - 8s 127us/step - loss: 0.0550 - acc: 0.9835 - val_loss: 0.0575 - val_acc: 0.9830\n",
            "Epoch 9/10\n",
            "60000/60000 [==============================] - 8s 128us/step - loss: 0.0511 - acc: 0.9845 - val_loss: 0.0540 - val_acc: 0.9834\n",
            "Epoch 10/10\n",
            "60000/60000 [==============================] - 8s 127us/step - loss: 0.0494 - acc: 0.9852 - val_loss: 0.0488 - val_acc: 0.9852\n"
          ],
          "name": "stdout"
        }
      ]
    },
    {
      "cell_type": "code",
      "metadata": {
        "colab_type": "code",
        "id": "zlsPc4u7Z72l",
        "colab": {
          "base_uri": "https://localhost:8080/",
          "height": 379
        },
        "outputId": "4635bf1b-3a42-473b-e898-5a9c068a8f98"
      },
      "source": [
        "plot_accuracy(history_do_50, miny=0.95)"
      ],
      "execution_count": null,
      "outputs": [
        {
          "output_type": "display_data",
          "data": {
            "image/png": "[encoded data removed]",
            "text/plain": [
              "<Figure size 576x396 with 1 Axes>"
            ]
          },
          "metadata": {
            "tags": []
          }
        },
        {
          "output_type": "display_data",
          "data": {
            "text/plain": [
              "<Figure size 576x396 with 0 Axes>"
            ]
          },
          "metadata": {
            "tags": []
          }
        }
      ]
    },
    {
      "cell_type": "markdown",
      "metadata": {
        "colab_type": "text",
        "id": "9GasTWUcbsBY"
      },
      "source": [
        "This time, the accuracy on the training sample plateau around 98.5%, because 50 neurons do not appear to be enough to capture all the information from the training samples. Let's go back to 100 neurons as our baseline. \n",
        "\n",
        "As an exercise, you could check what happens if you add a second hidden layer, with e.g. 50 neurons in both hidden layers. \n",
        "\n",
        "You will probably see that there is nothing to gain in playing this game. And if you manage to improve the performance in this way, please give details in the comments! \n",
        "\n",
        "Another way to improve performance is to act on the first stage of the network. Usually, image recognition is done with networks featuring stacked convolutional layers. Let's try that. \n",
        "\n",
        "### Stacked convolution layers"
      ]
    },
    {
      "cell_type": "markdown",
      "metadata": {
        "colab_type": "text",
        "id": "_pwU79FMfGik"
      },
      "source": [
        "In the model below, we add a second convolutional layer after the first one. \n",
        "Before this second convolutional layer, we perform a max pooling in a window of 2x2 pixels and then apply the new convolutional layer on the output of the max pooling layer. In this way, the second convolutional layer will learn longer-distance features, and we reduce the number of parameters in the network for faster training and for less overfitting. We also increase the  number of features to be extracted from 10 to 20. "
      ]
    },
    {
      "cell_type": "code",
      "metadata": {
        "colab_type": "code",
        "id": "_pxQOe3IbmnD",
        "colab": {
          "base_uri": "https://localhost:8080/",
          "height": 731
        },
        "outputId": "306f50d8-e159-487b-901d-7a37359f2359"
      },
      "source": [
        "model_2c = models.Sequential()\n",
        "model_2c.add( layers.Conv2D(10, 4, input_shape=(28,28,1), activation='relu') )\n",
        "model_2c.add( layers.MaxPooling2D(2) )\n",
        "model_2c.add( layers.Conv2D(20, 4, activation='relu') )\n",
        "model_2c.add( layers.Flatten() )\n",
        "model_2c.add( layers.Dropout(rate=0.5) )\n",
        "model_2c.add( layers.Dense(100, activation='relu') )\n",
        "model_2c.add( layers.Dense(10, activation='softmax') )\n",
        "model_2c.summary()\n",
        "\n",
        "model_2c.compile(loss='categorical_crossentropy',\n",
        "              optimizer=RMSprop(lr=0.001),\n",
        "              metrics=['acc'])\n",
        "\n",
        "history_2c = model_2c.fit(kx_train, y_train, validation_data=(kx_test,y_test),\n",
        "                    batch_size=50, epochs=10)"
      ],
      "execution_count": null,
      "outputs": [
        {
          "output_type": "stream",
          "text": [
            "_________________________________________________________________\n",
            "Layer (type)                 Output Shape              Param #   \n",
            "=================================================================\n",
            "conv2d_5 (Conv2D)            (None, 25, 25, 10)        170       \n",
            "_________________________________________________________________\n",
            "max_pooling2d_1 (MaxPooling2 (None, 12, 12, 10)        0         \n",
            "_________________________________________________________________\n",
            "conv2d_6 (Conv2D)            (None, 9, 9, 20)          3220      \n",
            "_________________________________________________________________\n",
            "flatten_5 (Flatten)          (None, 1620)              0         \n",
            "_________________________________________________________________\n",
            "dropout_4 (Dropout)          (None, 1620)              0         \n",
            "_________________________________________________________________\n",
            "dense_9 (Dense)              (None, 100)               162100    \n",
            "_________________________________________________________________\n",
            "dense_10 (Dense)             (None, 10)                1010      \n",
            "=================================================================\n",
            "Total params: 166,500\n",
            "Trainable params: 166,500\n",
            "Non-trainable params: 0\n",
            "_________________________________________________________________\n",
            "Train on 60000 samples, validate on 10000 samples\n",
            "Epoch 1/10\n",
            "60000/60000 [==============================] - 9s 143us/step - loss: 0.2109 - acc: 0.9363 - val_loss: 0.0624 - val_acc: 0.9802\n",
            "Epoch 2/10\n",
            "60000/60000 [==============================] - 8s 138us/step - loss: 0.0792 - acc: 0.9760 - val_loss: 0.0382 - val_acc: 0.9868\n",
            "Epoch 3/10\n",
            "60000/60000 [==============================] - 8s 137us/step - loss: 0.0622 - acc: 0.9813 - val_loss: 0.0332 - val_acc: 0.9891\n",
            "Epoch 4/10\n",
            "60000/60000 [==============================] - 8s 138us/step - loss: 0.0529 - acc: 0.9837 - val_loss: 0.0377 - val_acc: 0.9881\n",
            "Epoch 5/10\n",
            "60000/60000 [==============================] - 8s 137us/step - loss: 0.0473 - acc: 0.9858 - val_loss: 0.0286 - val_acc: 0.9914\n",
            "Epoch 6/10\n",
            "60000/60000 [==============================] - 8s 138us/step - loss: 0.0457 - acc: 0.9862 - val_loss: 0.0271 - val_acc: 0.9902\n",
            "Epoch 7/10\n",
            "60000/60000 [==============================] - 8s 138us/step - loss: 0.0428 - acc: 0.9871 - val_loss: 0.0350 - val_acc: 0.9894\n",
            "Epoch 8/10\n",
            "60000/60000 [==============================] - 8s 138us/step - loss: 0.0407 - acc: 0.9880 - val_loss: 0.0282 - val_acc: 0.9915\n",
            "Epoch 9/10\n",
            "60000/60000 [==============================] - 8s 137us/step - loss: 0.0381 - acc: 0.9888 - val_loss: 0.0284 - val_acc: 0.9906\n",
            "Epoch 10/10\n",
            "60000/60000 [==============================] - 8s 139us/step - loss: 0.0357 - acc: 0.9891 - val_loss: 0.0317 - val_acc: 0.9907\n"
          ],
          "name": "stdout"
        }
      ]
    },
    {
      "cell_type": "markdown",
      "metadata": {
        "colab_type": "text",
        "id": "eV8_ARDugAtx"
      },
      "source": [
        "We achieved a test accuracy over 99%, which is great! but can we do even better? \n",
        "\n",
        "### To 100% and beyond!\n",
        "\n",
        "After one hour of optimization, I converged to this network: "
      ]
    },
    {
      "cell_type": "code",
      "metadata": {
        "colab_type": "code",
        "id": "AoubrswNfqVW",
        "colab": {
          "base_uri": "https://localhost:8080/",
          "height": 1000
        },
        "outputId": "8d32628b-0a1b-43a4-f5be-a1554205b067"
      },
      "source": [
        "model_best = models.Sequential()\n",
        "model_best.add( layers.Conv2D(16, 4, input_shape=(28,28,1), activation='relu') )\n",
        "model_best.add( layers.MaxPooling2D(2) )\n",
        "model_best.add( layers.Conv2D(32, 4, activation='relu') )\n",
        "model_best.add( layers.MaxPooling2D(2) )\n",
        "model_best.add( layers.Flatten() )\n",
        "model_best.add( layers.Dropout(0.4) )\n",
        "model_best.add( layers.Dense(100, activation='relu') )\n",
        "model_best.add( layers.Dense(10, activation='softmax') )\n",
        "model_best.summary()\n",
        "model_best.compile(loss='categorical_crossentropy',\n",
        "              optimizer=RMSprop(lr=0.001),\n",
        "              metrics=['acc'])\n",
        "\n",
        "history_best = model_best.fit(kx_train, y_train, validation_data=(kx_test,y_test),\n",
        "                              batch_size=200, epochs=40)"
      ],
      "execution_count": 13,
      "outputs": [
        {
          "output_type": "stream",
          "text": [
            "Model: \"sequential_3\"\n",
            "_________________________________________________________________\n",
            "Layer (type)                 Output Shape              Param #   \n",
            "=================================================================\n",
            "conv2d_5 (Conv2D)            (None, 25, 25, 16)        272       \n",
            "_________________________________________________________________\n",
            "max_pooling2d_4 (MaxPooling2 (None, 12, 12, 16)        0         \n",
            "_________________________________________________________________\n",
            "conv2d_6 (Conv2D)            (None, 9, 9, 32)          8224      \n",
            "_________________________________________________________________\n",
            "max_pooling2d_5 (MaxPooling2 (None, 4, 4, 32)          0         \n",
            "_________________________________________________________________\n",
            "flatten_2 (Flatten)          (None, 512)               0         \n",
            "_________________________________________________________________\n",
            "dropout_2 (Dropout)          (None, 512)               0         \n",
            "_________________________________________________________________\n",
            "dense_4 (Dense)              (None, 100)               51300     \n",
            "_________________________________________________________________\n",
            "dense_5 (Dense)              (None, 10)                1010      \n",
            "=================================================================\n",
            "Total params: 60,806\n",
            "Trainable params: 60,806\n",
            "Non-trainable params: 0\n",
            "_________________________________________________________________\n",
            "Epoch 1/40\n",
            "299/300 [============================>.] - ETA: 0s - loss: 0.3638 - acc: 0.8868WARNING:tensorflow:Callbacks method `on_test_batch_end` is slow compared to the batch time (batch time: 0.0019s vs `on_test_batch_end` time: 0.0030s). Check your callbacks.\n",
            "300/300 [==============================] - 3s 10ms/step - loss: 0.3633 - acc: 0.8870 - val_loss: 0.0845 - val_acc: 0.9725\n",
            "Epoch 2/40\n",
            "300/300 [==============================] - 3s 9ms/step - loss: 0.1112 - acc: 0.9650 - val_loss: 0.0594 - val_acc: 0.9818\n",
            "Epoch 3/40\n",
            "300/300 [==============================] - 3s 9ms/step - loss: 0.0834 - acc: 0.9734 - val_loss: 0.0423 - val_acc: 0.9852\n",
            "Epoch 4/40\n",
            "300/300 [==============================] - 3s 9ms/step - loss: 0.0673 - acc: 0.9784 - val_loss: 0.0343 - val_acc: 0.9885\n",
            "Epoch 5/40\n",
            "300/300 [==============================] - 3s 9ms/step - loss: 0.0601 - acc: 0.9815 - val_loss: 0.0337 - val_acc: 0.9887\n",
            "Epoch 6/40\n",
            "300/300 [==============================] - 3s 9ms/step - loss: 0.0523 - acc: 0.9838 - val_loss: 0.0298 - val_acc: 0.9897\n",
            "Epoch 7/40\n",
            "300/300 [==============================] - 3s 9ms/step - loss: 0.0484 - acc: 0.9848 - val_loss: 0.0277 - val_acc: 0.9912\n",
            "Epoch 8/40\n",
            "300/300 [==============================] - 3s 9ms/step - loss: 0.0447 - acc: 0.9862 - val_loss: 0.0248 - val_acc: 0.9924\n",
            "Epoch 9/40\n",
            "300/300 [==============================] - 3s 9ms/step - loss: 0.0413 - acc: 0.9872 - val_loss: 0.0268 - val_acc: 0.9912\n",
            "Epoch 10/40\n",
            "300/300 [==============================] - 3s 9ms/step - loss: 0.0380 - acc: 0.9879 - val_loss: 0.0231 - val_acc: 0.9922\n",
            "Epoch 11/40\n",
            "300/300 [==============================] - 3s 9ms/step - loss: 0.0369 - acc: 0.9883 - val_loss: 0.0234 - val_acc: 0.9926\n",
            "Epoch 12/40\n",
            "300/300 [==============================] - 3s 9ms/step - loss: 0.0348 - acc: 0.9893 - val_loss: 0.0267 - val_acc: 0.9911\n",
            "Epoch 13/40\n",
            "300/300 [==============================] - 3s 9ms/step - loss: 0.0320 - acc: 0.9897 - val_loss: 0.0228 - val_acc: 0.9918\n",
            "Epoch 14/40\n",
            "300/300 [==============================] - 3s 9ms/step - loss: 0.0318 - acc: 0.9900 - val_loss: 0.0226 - val_acc: 0.9927\n",
            "Epoch 15/40\n",
            "300/300 [==============================] - 3s 9ms/step - loss: 0.0295 - acc: 0.9905 - val_loss: 0.0243 - val_acc: 0.9924\n",
            "Epoch 16/40\n",
            "300/300 [==============================] - 3s 9ms/step - loss: 0.0274 - acc: 0.9909 - val_loss: 0.0248 - val_acc: 0.9922\n",
            "Epoch 17/40\n",
            "300/300 [==============================] - 3s 9ms/step - loss: 0.0264 - acc: 0.9914 - val_loss: 0.0216 - val_acc: 0.9934\n",
            "Epoch 18/40\n",
            "300/300 [==============================] - 3s 9ms/step - loss: 0.0263 - acc: 0.9915 - val_loss: 0.0229 - val_acc: 0.9932\n",
            "Epoch 19/40\n",
            "300/300 [==============================] - 3s 9ms/step - loss: 0.0245 - acc: 0.9925 - val_loss: 0.0239 - val_acc: 0.9927\n",
            "Epoch 20/40\n",
            "300/300 [==============================] - 3s 9ms/step - loss: 0.0238 - acc: 0.9922 - val_loss: 0.0249 - val_acc: 0.9922\n",
            "Epoch 21/40\n",
            "300/300 [==============================] - 3s 9ms/step - loss: 0.0242 - acc: 0.9919 - val_loss: 0.0226 - val_acc: 0.9933\n",
            "Epoch 22/40\n",
            "300/300 [==============================] - 3s 9ms/step - loss: 0.0221 - acc: 0.9927 - val_loss: 0.0208 - val_acc: 0.9932\n",
            "Epoch 23/40\n",
            "300/300 [==============================] - 3s 9ms/step - loss: 0.0222 - acc: 0.9927 - val_loss: 0.0237 - val_acc: 0.9928\n",
            "Epoch 24/40\n",
            "300/300 [==============================] - 3s 9ms/step - loss: 0.0203 - acc: 0.9936 - val_loss: 0.0255 - val_acc: 0.9929\n",
            "Epoch 25/40\n",
            "300/300 [==============================] - 3s 9ms/step - loss: 0.0226 - acc: 0.9930 - val_loss: 0.0248 - val_acc: 0.9927\n",
            "Epoch 26/40\n",
            "300/300 [==============================] - 3s 9ms/step - loss: 0.0220 - acc: 0.9931 - val_loss: 0.0202 - val_acc: 0.9934\n",
            "Epoch 27/40\n",
            "300/300 [==============================] - 3s 9ms/step - loss: 0.0206 - acc: 0.9934 - val_loss: 0.0220 - val_acc: 0.9937\n",
            "Epoch 28/40\n",
            "300/300 [==============================] - 3s 9ms/step - loss: 0.0196 - acc: 0.9934 - val_loss: 0.0212 - val_acc: 0.9934\n",
            "Epoch 29/40\n",
            "300/300 [==============================] - 3s 9ms/step - loss: 0.0192 - acc: 0.9937 - val_loss: 0.0210 - val_acc: 0.9938\n",
            "Epoch 30/40\n",
            "300/300 [==============================] - 3s 9ms/step - loss: 0.0192 - acc: 0.9937 - val_loss: 0.0223 - val_acc: 0.9938\n",
            "Epoch 31/40\n",
            "300/300 [==============================] - 3s 9ms/step - loss: 0.0183 - acc: 0.9940 - val_loss: 0.0217 - val_acc: 0.9937\n",
            "Epoch 32/40\n",
            "300/300 [==============================] - 3s 9ms/step - loss: 0.0172 - acc: 0.9946 - val_loss: 0.0238 - val_acc: 0.9933\n",
            "Epoch 33/40\n",
            "300/300 [==============================] - 3s 9ms/step - loss: 0.0168 - acc: 0.9944 - val_loss: 0.0213 - val_acc: 0.9941\n",
            "Epoch 34/40\n",
            "300/300 [==============================] - 3s 9ms/step - loss: 0.0169 - acc: 0.9946 - val_loss: 0.0210 - val_acc: 0.9943\n",
            "Epoch 35/40\n",
            "300/300 [==============================] - 3s 9ms/step - loss: 0.0155 - acc: 0.9951 - val_loss: 0.0232 - val_acc: 0.9931\n",
            "Epoch 36/40\n",
            "300/300 [==============================] - 3s 9ms/step - loss: 0.0154 - acc: 0.9948 - val_loss: 0.0215 - val_acc: 0.9935\n",
            "Epoch 37/40\n",
            "300/300 [==============================] - 3s 9ms/step - loss: 0.0151 - acc: 0.9953 - val_loss: 0.0225 - val_acc: 0.9940\n",
            "Epoch 38/40\n",
            "300/300 [==============================] - 3s 9ms/step - loss: 0.0158 - acc: 0.9946 - val_loss: 0.0222 - val_acc: 0.9931\n",
            "Epoch 39/40\n",
            "300/300 [==============================] - 3s 9ms/step - loss: 0.0148 - acc: 0.9955 - val_loss: 0.0242 - val_acc: 0.9932\n",
            "Epoch 40/40\n",
            "300/300 [==============================] - 3s 9ms/step - loss: 0.0152 - acc: 0.9953 - val_loss: 0.0233 - val_acc: 0.9938\n"
          ],
          "name": "stdout"
        }
      ]
    },
    {
      "cell_type": "code",
      "metadata": {
        "colab_type": "code",
        "id": "liMqdVECgyYW",
        "colab": {
          "base_uri": "https://localhost:8080/",
          "height": 299
        },
        "outputId": "3a26bff7-4a29-492b-cc6d-cff9f6e89ad7"
      },
      "source": [
        "plot_accuracy(history_best, miny=0.95)"
      ],
      "execution_count": 16,
      "outputs": [
        {
          "output_type": "display_data",
          "data": {
            "image/png": "[encoded data removed]",
            "text/plain": [
              "<Figure size 432x288 with 1 Axes>"
            ]
          },
          "metadata": {
            "tags": [],
            "needs_background": "light"
          }
        },
        {
          "output_type": "display_data",
          "data": {
            "text/plain": [
              "<Figure size 432x288 with 0 Axes>"
            ]
          },
          "metadata": {
            "tags": []
          }
        }
      ]
    },
    {
      "cell_type": "markdown",
      "metadata": {
        "colab_type": "text",
        "id": "eZ0EWjFQiK5r"
      },
      "source": [
        "The accuracy on the test sample now plateaus around 99.4%. \n",
        "\n",
        "In this attempt: \n",
        "\n",
        "* I extract more features from the two convolutional layers\n",
        "* I added a second max pooling layer to reduce complexity before the dense network\n",
        "* I lowered the dropout rate to 40%, and I checked that overfitting appears if I go lower\n",
        "* I increased the batch size to train faster, and trained for 40 epochs. I checked that more epochs are not useful \n",
        "\n",
        "Can you do even better? If yes please tell us in the comments, I'd love to hear from it.\n",
        "\n",
        "Obviously, we can't get an accuracy larger than 100%... And you really need to fight for 0.1% at the end! Moreover, when you're at this stage, you need to be careful about the performance metric. For instance:\n",
        "\n",
        "* what is the precision on the accuracy?\n",
        "* the accuracy varies as a function of the epoch. What are we supposed to do with that? \n",
        "\n",
        "I'll come back to these questions in a future post. \n",
        "\n",
        "For now, let's have a look at the digits we did not manage to classify. \n",
        "\n",
        "## Learning from the failures\n",
        "\n",
        "First, we evaluate the predictions of the network for the whole testing sample, and we get the predicted and true digits for this sample by choosing the digit with maximum probability. "
      ]
    },
    {
      "cell_type": "code",
      "metadata": {
        "colab_type": "code",
        "id": "OZeKWdchh0w3",
        "colab": {
          "base_uri": "https://localhost:8080/",
          "height": 52
        },
        "outputId": "c10a694d-a796-45b6-b5d0-41e977121016"
      },
      "source": [
        "preds = model_best.predict(kx_test)\n",
        "pred_digits = np.argmax(preds, axis=1)\n",
        "y_digits = np.argmax(y_test, axis=1)\n",
        "print(pred_digits) \n",
        "print(y_digits) "
      ],
      "execution_count": 17,
      "outputs": [
        {
          "output_type": "stream",
          "text": [
            "[7 2 1 ... 4 5 6]\n",
            "[7 2 1 ... 4 5 6]\n"
          ],
          "name": "stdout"
        }
      ]
    },
    {
      "cell_type": "markdown",
      "metadata": {
        "colab_type": "text",
        "id": "-9iTUr9nlNIu"
      },
      "source": [
        "Then we extract the images, the true labels, and the predicted labels for the misclassified digits: "
      ]
    },
    {
      "cell_type": "code",
      "metadata": {
        "colab_type": "code",
        "id": "HzP31z1mkolq",
        "colab": {
          "base_uri": "https://localhost:8080/",
          "height": 35
        },
        "outputId": "d6ffb449-61a0-42bc-9a73-052b018e008b"
      },
      "source": [
        "mispred_img = x_test[pred_digits!=y_digits]\n",
        "mispred_true = y_digits[pred_digits!=y_digits]\n",
        "mispred_pred = pred_digits[pred_digits!=y_digits]\n",
        "print('number of misclassified digits:', mispred_img.shape[0]) "
      ],
      "execution_count": 18,
      "outputs": [
        {
          "output_type": "stream",
          "text": [
            "number of misclassified digits: 62\n"
          ],
          "name": "stdout"
        }
      ]
    },
    {
      "cell_type": "markdown",
      "metadata": {
        "colab_type": "text",
        "id": "trGdOX5_lmPL"
      },
      "source": [
        "Finally, let's have a look: "
      ]
    },
    {
      "cell_type": "code",
      "metadata": {
        "colab_type": "code",
        "id": "6PrmA-_GlUx6",
        "colab": {}
      },
      "source": [
        "def plot_img_results(array, true, pred, i, n=1):\n",
        "    # plot the image and the target for sample i\n",
        "    ncols = 12\n",
        "    nrows = n/ncols + 1\n",
        "    fig = plt.figure( figsize=(ncols*1.5, nrows*1.5), dpi=90)\n",
        "    for j in range(n):\n",
        "      index = j+i\n",
        "      plt.subplot(nrows,ncols, j+1)\n",
        "      plt.imshow(array[index])\n",
        "      plt.title('tr: {} pr: {}'.format(true[index], pred[index]))\n",
        "      plt.axis('off')"
      ],
      "execution_count": 28,
      "outputs": []
    },
    {
      "cell_type": "code",
      "metadata": {
        "colab_type": "code",
        "id": "PACOrciTlpDS",
        "colab": {
          "base_uri": "https://localhost:8080/",
          "height": 538
        },
        "outputId": "4d10ddf0-1481-4d41-f4da-c5b81c50d7a1"
      },
      "source": [
        "plot_img_results(mispred_img, mispred_true, mispred_pred, 0, len(mispred_img))"
      ],
      "execution_count": 29,
      "outputs": [
        {
          "output_type": "display_data",
          "data": {
            "image/png": "[encoded data removed]",
            "text/plain": [
              "<Figure size 1620x832.5 with 62 Axes>"
            ]
          },
          "metadata": {
            "tags": [],
            "needs_background": "light"
          }
        }
      ]
    },
    {
      "cell_type": "markdown",
      "metadata": {
        "colab_type": "text",
        "id": "MbxwflYGlzbC"
      },
      "source": [
        "Ok, we're not doing so bad after all. To get better results, it would help to: \n",
        "\n",
        "* give people a pen that works (or get more old pens in the training set)\n",
        "* teach them how to write properly (or get more bad writers in the training set)\n",
        "* get rid of all these europeans who add an horizontal bar to the 7 (or get more europeans in the training set)\n",
        "\n",
        "Still, for the major fraction of the misclassified digits, the human brain would perform better than our network, and we can always aim for better performance. \n",
        "\n",
        "The world record for this classification exercise is 99.8%. \n",
        "\n",
        "How well do you rank?\n",
        "\n",
        "Do you have any idea on how to manipulate the input images to help the network on such bad cases? hint: it's always possible to edit the images before feeding them to the network for training, a technique called **data augmentation**. \n",
        "\n",
        "## Wrapping it up \n",
        "\n",
        "In this tutorial, you have learnt: \n",
        "\n",
        "* how to use the Google Colab platform to do deep learning, without having to install software or to buy a GPU; \n",
        "* how to use Google Colab to run your own notebooks;\n",
        "* what is a convolutional network, and what are its most important layers: the convolutional layers, the maxpooling layers, and the dropout layers; \n",
        "* how to build a simple convolutional network, and how to tune it to reach an accuracy around 99.4% in the recognition of handwritten digits. \n",
        "\n",
        "Now, let's do a small contest! \n",
        "\n",
        "What's your highest accuracy? \n",
        "\n",
        "Please tell us in the comments. To claim your reward (a good dinner at my place if you're around!), you should: \n",
        "\n",
        "* post your accuracy history plot\n",
        "* give the code that describes your model \n",
        "\n",
        "In the future, we'll try other image classification problems, and talk about data augmentation. \n",
        "\n",
        "We will also learn about other kinds of deep neural networks used in natural language processing and time series analysis.   \n"
      ]
    }
  ]
}